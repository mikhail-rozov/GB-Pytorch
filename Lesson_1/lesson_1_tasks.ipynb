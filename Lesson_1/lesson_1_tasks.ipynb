{
 "cells": [
  {
   "cell_type": "markdown",
   "metadata": {},
   "source": [
    "## Практическое задание к уроку 1 по теме \"Основные понятия и структуры PyTorch\"."
   ]
  },
  {
   "cell_type": "code",
   "execution_count": 1,
   "metadata": {
    "id": "_CNZn_3CofVO"
   },
   "outputs": [],
   "source": [
    "import torch"
   ]
  },
  {
   "cell_type": "markdown",
   "metadata": {
    "id": "QGYTKAxeofVR"
   },
   "source": [
    "##### 1. Создайте случайный FloatTensor размера 3x4x5"
   ]
  },
  {
   "cell_type": "code",
   "execution_count": 2,
   "metadata": {},
   "outputs": [
    {
     "data": {
      "text/plain": [
       "tensor([[[-0.9033, -1.7295,  1.2303,  1.2671,  0.1603],\n",
       "         [-1.4026, -0.9490,  2.7413,  0.5085,  1.0967],\n",
       "         [ 0.0533,  0.6417, -0.0669,  1.3568,  0.9088],\n",
       "         [-0.3913, -0.3560, -0.2816,  1.3446,  0.0215]],\n",
       "\n",
       "        [[-2.1983, -0.7572,  1.8848, -0.1347,  0.2652],\n",
       "         [-1.1139,  0.1164, -0.8734, -0.8587,  1.7656],\n",
       "         [-0.2869, -0.6333, -1.3414, -0.7579, -0.4040],\n",
       "         [ 0.9561, -0.7896,  1.3161,  0.5392,  2.3055]],\n",
       "\n",
       "        [[-0.3733, -0.6290,  0.5379, -1.3508,  2.6497],\n",
       "         [ 2.4726, -0.7064,  0.4209, -0.6317, -2.5613],\n",
       "         [ 0.2260, -0.5206, -0.0827,  1.5797, -0.8916],\n",
       "         [-1.1939,  0.4431,  0.3588,  0.0161, -0.0589]]])"
      ]
     },
     "execution_count": 2,
     "metadata": {},
     "output_type": "execute_result"
    }
   ],
   "source": [
    "a = torch.randn(size=(3, 4, 5))\n",
    "a"
   ]
  },
  {
   "cell_type": "markdown",
   "metadata": {
    "id": "7GV_q8DdofVV"
   },
   "source": [
    "##### 2. Выведите его форму (shape)"
   ]
  },
  {
   "cell_type": "code",
   "execution_count": 3,
   "metadata": {},
   "outputs": [
    {
     "data": {
      "text/plain": [
       "torch.Size([3, 4, 5])"
      ]
     },
     "execution_count": 3,
     "metadata": {},
     "output_type": "execute_result"
    }
   ],
   "source": [
    "a.shape"
   ]
  },
  {
   "cell_type": "markdown",
   "metadata": {
    "id": "f1OTy65FofVX"
   },
   "source": [
    "##### 3. Приведите его к форме 6х10"
   ]
  },
  {
   "cell_type": "code",
   "execution_count": 4,
   "metadata": {},
   "outputs": [
    {
     "data": {
      "text/plain": [
       "tensor([[-0.9033, -1.7295,  1.2303,  1.2671,  0.1603, -1.4026, -0.9490,  2.7413,\n",
       "          0.5085,  1.0967],\n",
       "        [ 0.0533,  0.6417, -0.0669,  1.3568,  0.9088, -0.3913, -0.3560, -0.2816,\n",
       "          1.3446,  0.0215],\n",
       "        [-2.1983, -0.7572,  1.8848, -0.1347,  0.2652, -1.1139,  0.1164, -0.8734,\n",
       "         -0.8587,  1.7656],\n",
       "        [-0.2869, -0.6333, -1.3414, -0.7579, -0.4040,  0.9561, -0.7896,  1.3161,\n",
       "          0.5392,  2.3055],\n",
       "        [-0.3733, -0.6290,  0.5379, -1.3508,  2.6497,  2.4726, -0.7064,  0.4209,\n",
       "         -0.6317, -2.5613],\n",
       "        [ 0.2260, -0.5206, -0.0827,  1.5797, -0.8916, -1.1939,  0.4431,  0.3588,\n",
       "          0.0161, -0.0589]])"
      ]
     },
     "execution_count": 4,
     "metadata": {},
     "output_type": "execute_result"
    }
   ],
   "source": [
    "a = a.reshape(6, 10)\n",
    "a"
   ]
  },
  {
   "cell_type": "markdown",
   "metadata": {
    "id": "BEVOv9_TofVe"
   },
   "source": [
    "##### 4. Создайте случайный IntTensor размера 10"
   ]
  },
  {
   "cell_type": "code",
   "execution_count": 5,
   "metadata": {},
   "outputs": [
    {
     "name": "stdout",
     "output_type": "stream",
     "text": [
      "tensor([3, 3, 3, 0, 7, 2, 9, 0, 0, 0], dtype=torch.int32)\n",
      "torch.IntTensor\n"
     ]
    }
   ],
   "source": [
    "b = torch.randint(10, size=(10,)).int()\n",
    "print(b)\n",
    "print(b.type())"
   ]
  },
  {
   "cell_type": "markdown",
   "metadata": {
    "id": "TAX3DUiSa07K"
   },
   "source": [
    "##### 5. Умножьте созданный FloatTensor на созданный IntTensor поэлементно"
   ]
  },
  {
   "cell_type": "code",
   "execution_count": 6,
   "metadata": {},
   "outputs": [
    {
     "data": {
      "text/plain": [
       "tensor([[-2.7098, -5.1886,  3.6910,  0.0000,  1.1219, -2.8052, -8.5414,  0.0000,\n",
       "          0.0000,  0.0000],\n",
       "        [ 0.1598,  1.9250, -0.2007,  0.0000,  6.3617, -0.7826, -3.2041, -0.0000,\n",
       "          0.0000,  0.0000],\n",
       "        [-6.5949, -2.2716,  5.6543, -0.0000,  1.8562, -2.2278,  1.0474, -0.0000,\n",
       "         -0.0000,  0.0000],\n",
       "        [-0.8608, -1.9000, -4.0243, -0.0000, -2.8279,  1.9123, -7.1061,  0.0000,\n",
       "          0.0000,  0.0000],\n",
       "        [-1.1199, -1.8871,  1.6136, -0.0000, 18.5480,  4.9452, -6.3577,  0.0000,\n",
       "         -0.0000, -0.0000],\n",
       "        [ 0.6781, -1.5617, -0.2480,  0.0000, -6.2412, -2.3879,  3.9879,  0.0000,\n",
       "          0.0000, -0.0000]])"
      ]
     },
     "execution_count": 6,
     "metadata": {},
     "output_type": "execute_result"
    }
   ],
   "source": [
    "a * b"
   ]
  },
  {
   "cell_type": "markdown",
   "metadata": {
    "id": "eUxdWlQZofVi"
   },
   "source": [
    "##### 6. Умножьте тензор матрично на себя, чтобы результат был размерности 6x6  \n",
    "Подсказка: .dot может не подойти"
   ]
  },
  {
   "cell_type": "code",
   "execution_count": 7,
   "metadata": {},
   "outputs": [
    {
     "name": "stdout",
     "output_type": "stream",
     "text": [
      "tensor([[18.7962,  1.4467,  6.0433,  4.4976, -3.9742,  4.6345],\n",
      "        [ 1.4467,  5.2533, -1.1471, -1.4164, -1.6231,  1.2454],\n",
      "        [ 6.0433, -1.1471, 14.9184, -0.1219, -3.9886,  0.2426],\n",
      "        [ 4.4976, -1.4164, -0.1219, 11.8960, -3.0325, -1.6077],\n",
      "        [-3.9742, -1.6231, -3.9886, -3.0325, 23.4193, -7.2712],\n",
      "        [ 4.6345,  1.2454,  0.2426, -1.6077, -7.2712,  5.3736]])\n"
     ]
    },
    {
     "data": {
      "text/plain": [
       "torch.Size([6, 6])"
      ]
     },
     "execution_count": 7,
     "metadata": {},
     "output_type": "execute_result"
    }
   ],
   "source": [
    "result = a @ a.T\n",
    "print(result)\n",
    "result.shape"
   ]
  },
  {
   "cell_type": "markdown",
   "metadata": {
    "id": "u3V6CsNkofVj"
   },
   "source": [
    "##### 7. Посчитайте производную функции y = x**3 + z - 75t в точке (1, 0.5, 2)"
   ]
  },
  {
   "cell_type": "code",
   "execution_count": 8,
   "metadata": {},
   "outputs": [],
   "source": [
    "xzt = torch.Tensor([1, 0.5, 2])\n",
    "xzt.requires_grad = True\n",
    "y = xzt[0]**3 + xzt[1] - 75 * xzt[2]"
   ]
  },
  {
   "cell_type": "code",
   "execution_count": 9,
   "metadata": {},
   "outputs": [
    {
     "data": {
      "text/plain": [
       "tensor([  3.,   1., -75.])"
      ]
     },
     "execution_count": 9,
     "metadata": {},
     "output_type": "execute_result"
    }
   ],
   "source": [
    "y.backward()\n",
    "xzt.grad"
   ]
  },
  {
   "cell_type": "markdown",
   "metadata": {
    "id": "FzH6QkyxofVm"
   },
   "source": [
    "##### 8. Создайте единичный тензор размера 5x6"
   ]
  },
  {
   "cell_type": "code",
   "execution_count": 10,
   "metadata": {},
   "outputs": [
    {
     "data": {
      "text/plain": [
       "tensor([[1., 1., 1., 1., 1., 1.],\n",
       "        [1., 1., 1., 1., 1., 1.],\n",
       "        [1., 1., 1., 1., 1., 1.],\n",
       "        [1., 1., 1., 1., 1., 1.],\n",
       "        [1., 1., 1., 1., 1., 1.]])"
      ]
     },
     "execution_count": 10,
     "metadata": {},
     "output_type": "execute_result"
    }
   ],
   "source": [
    "c = torch.ones(5, 6)\n",
    "c"
   ]
  },
  {
   "cell_type": "markdown",
   "metadata": {
    "id": "z49ttvWPofVo"
   },
   "source": [
    "##### 9. Переведите его в формат numpy"
   ]
  },
  {
   "cell_type": "code",
   "execution_count": 11,
   "metadata": {},
   "outputs": [
    {
     "data": {
      "text/plain": [
       "array([[1., 1., 1., 1., 1., 1.],\n",
       "       [1., 1., 1., 1., 1., 1.],\n",
       "       [1., 1., 1., 1., 1., 1.],\n",
       "       [1., 1., 1., 1., 1., 1.],\n",
       "       [1., 1., 1., 1., 1., 1.]], dtype=float32)"
      ]
     },
     "execution_count": 11,
     "metadata": {},
     "output_type": "execute_result"
    }
   ],
   "source": [
    "c = c.numpy()\n",
    "c"
   ]
  }
 ],
 "metadata": {
  "colab": {
   "collapsed_sections": [],
   "provenance": []
  },
  "kernelspec": {
   "display_name": "Python 3 (ipykernel)",
   "language": "python",
   "name": "python3"
  },
  "language_info": {
   "codemirror_mode": {
    "name": "ipython",
    "version": 3
   },
   "file_extension": ".py",
   "mimetype": "text/x-python",
   "name": "python",
   "nbconvert_exporter": "python",
   "pygments_lexer": "ipython3",
   "version": "3.10.6"
  }
 },
 "nbformat": 4,
 "nbformat_minor": 4
}
