{
 "cells": [
  {
   "cell_type": "markdown",
   "metadata": {},
   "source": [
    "## Практическое задание к уроку 1 по теме \"Основные понятия и структуры PyTorch\"."
   ]
  },
  {
   "cell_type": "code",
   "execution_count": 1,
   "metadata": {
    "id": "_CNZn_3CofVO"
   },
   "outputs": [],
   "source": [
    "import torch"
   ]
  },
  {
   "cell_type": "markdown",
   "metadata": {
    "id": "QGYTKAxeofVR"
   },
   "source": [
    "1. Создайте случайный FloatTensor размера 3x4x5"
   ]
  },
  {
   "cell_type": "code",
   "execution_count": 2,
   "metadata": {},
   "outputs": [
    {
     "data": {
      "text/plain": [
       "tensor([[[ 0.3976, -0.3392,  1.6806,  0.5407, -1.2124],\n",
       "         [ 0.7525, -0.8717, -0.9450, -0.2268,  0.5566],\n",
       "         [-1.0527, -0.5293,  0.2289,  0.3139, -0.6976],\n",
       "         [ 0.7933, -0.3921, -1.7140,  0.2473, -0.2558]],\n",
       "\n",
       "        [[-0.6319,  0.9490,  0.4840,  1.0570,  0.5634],\n",
       "         [-1.3545,  0.8177,  0.3318,  0.6997,  0.2536],\n",
       "         [ 0.1272,  0.6053, -1.3688,  2.0109,  0.4649],\n",
       "         [ 1.3179,  0.2812, -0.7838, -0.3228, -0.9617]],\n",
       "\n",
       "        [[-0.8108, -1.1340,  0.1305,  1.1224,  0.6196],\n",
       "         [-0.9953, -0.6660,  0.1017,  0.2994,  1.0678],\n",
       "         [ 3.1540, -1.4933,  0.7229,  0.1545,  0.1247],\n",
       "         [ 0.1174,  0.5183,  0.8758, -1.3778, -0.1356]]])"
      ]
     },
     "execution_count": 2,
     "metadata": {},
     "output_type": "execute_result"
    }
   ],
   "source": [
    "a = torch.randn(size=(3, 4, 5))\n",
    "a"
   ]
  },
  {
   "cell_type": "markdown",
   "metadata": {
    "id": "7GV_q8DdofVV"
   },
   "source": [
    "2. Выведите его форму (shape)"
   ]
  },
  {
   "cell_type": "code",
   "execution_count": 3,
   "metadata": {},
   "outputs": [
    {
     "data": {
      "text/plain": [
       "torch.Size([3, 4, 5])"
      ]
     },
     "execution_count": 3,
     "metadata": {},
     "output_type": "execute_result"
    }
   ],
   "source": [
    "a.shape"
   ]
  },
  {
   "cell_type": "markdown",
   "metadata": {
    "id": "f1OTy65FofVX"
   },
   "source": [
    "3. Приведите его к форме 6х10"
   ]
  },
  {
   "cell_type": "code",
   "execution_count": 4,
   "metadata": {},
   "outputs": [
    {
     "data": {
      "text/plain": [
       "tensor([[ 0.3976, -0.3392,  1.6806,  0.5407, -1.2124,  0.7525, -0.8717, -0.9450,\n",
       "         -0.2268,  0.5566],\n",
       "        [-1.0527, -0.5293,  0.2289,  0.3139, -0.6976,  0.7933, -0.3921, -1.7140,\n",
       "          0.2473, -0.2558],\n",
       "        [-0.6319,  0.9490,  0.4840,  1.0570,  0.5634, -1.3545,  0.8177,  0.3318,\n",
       "          0.6997,  0.2536],\n",
       "        [ 0.1272,  0.6053, -1.3688,  2.0109,  0.4649,  1.3179,  0.2812, -0.7838,\n",
       "         -0.3228, -0.9617],\n",
       "        [-0.8108, -1.1340,  0.1305,  1.1224,  0.6196, -0.9953, -0.6660,  0.1017,\n",
       "          0.2994,  1.0678],\n",
       "        [ 3.1540, -1.4933,  0.7229,  0.1545,  0.1247,  0.1174,  0.5183,  0.8758,\n",
       "         -1.3778, -0.1356]])"
      ]
     },
     "execution_count": 4,
     "metadata": {},
     "output_type": "execute_result"
    }
   ],
   "source": [
    "a = a.reshape(6, 10)\n",
    "a"
   ]
  },
  {
   "cell_type": "markdown",
   "metadata": {
    "id": "BEVOv9_TofVe"
   },
   "source": [
    "4. Создайте случайный IntTensor размера 10"
   ]
  },
  {
   "cell_type": "code",
   "execution_count": 5,
   "metadata": {},
   "outputs": [
    {
     "name": "stdout",
     "output_type": "stream",
     "text": [
      "tensor([2, 6, 9, 7, 1, 1, 9, 1, 8, 1], dtype=torch.int32)\n",
      "torch.IntTensor\n"
     ]
    }
   ],
   "source": [
    "b = torch.randint(10, size=(10,)).int()\n",
    "print(b)\n",
    "print(b.type())"
   ]
  },
  {
   "cell_type": "markdown",
   "metadata": {
    "id": "TAX3DUiSa07K"
   },
   "source": [
    "5. Умножьте созданный FloatTensor на созданный IntTensor поэлементно"
   ]
  },
  {
   "cell_type": "code",
   "execution_count": 6,
   "metadata": {},
   "outputs": [
    {
     "data": {
      "text/plain": [
       "tensor([[  0.7952,  -2.0353,  15.1256,   3.7849,  -1.2124,   0.7525,  -7.8455,\n",
       "          -0.9450,  -1.8146,   0.5566],\n",
       "        [ -2.1053,  -3.1759,   2.0601,   2.1976,  -0.6976,   0.7933,  -3.5290,\n",
       "          -1.7140,   1.9781,  -0.2558],\n",
       "        [ -1.2638,   5.6941,   4.3559,   7.3987,   0.5634,  -1.3545,   7.3592,\n",
       "           0.3318,   5.5978,   0.2536],\n",
       "        [  0.2544,   3.6317, -12.3188,  14.0760,   0.4649,   1.3179,   2.5311,\n",
       "          -0.7838,  -2.5825,  -0.9617],\n",
       "        [ -1.6217,  -6.8039,   1.1748,   7.8567,   0.6196,  -0.9953,  -5.9938,\n",
       "           0.1017,   2.3950,   1.0678],\n",
       "        [  6.3080,  -8.9600,   6.5064,   1.0816,   0.1247,   0.1174,   4.6650,\n",
       "           0.8758, -11.0224,  -0.1356]])"
      ]
     },
     "execution_count": 6,
     "metadata": {},
     "output_type": "execute_result"
    }
   ],
   "source": [
    "a * b"
   ]
  },
  {
   "cell_type": "markdown",
   "metadata": {
    "id": "eUxdWlQZofVi"
   },
   "source": [
    "6. Умножьте тензор матрично на себя, чтобы результат был размерности 6x6  \n",
    "Подсказка: .dot может не подойти"
   ]
  },
  {
   "cell_type": "code",
   "execution_count": 7,
   "metadata": {},
   "outputs": [
    {
     "name": "stdout",
     "output_type": "stream",
     "text": [
      "tensor([[ 7.4403,  3.5213, -1.9345, -0.9062,  0.3992,  1.9538],\n",
      "        [ 3.5213,  5.8732, -1.6433,  1.9843,  0.5020, -4.3199],\n",
      "        [-1.9345, -1.6433,  6.1359, -0.0660,  2.3523, -3.2697],\n",
      "        [-0.9062,  1.9843, -0.0660,  9.9751, -1.1255, -0.9345],\n",
      "        [ 0.3992,  0.5020,  2.3523, -1.1255,  6.2783, -1.4491],\n",
      "        [ 1.9538, -4.3199, -3.2697, -0.9345, -1.4491, 15.7060]])\n"
     ]
    },
    {
     "data": {
      "text/plain": [
       "torch.Size([6, 6])"
      ]
     },
     "execution_count": 7,
     "metadata": {},
     "output_type": "execute_result"
    }
   ],
   "source": [
    "result = a @ a.T\n",
    "print(result)\n",
    "result.shape"
   ]
  },
  {
   "cell_type": "markdown",
   "metadata": {
    "id": "u3V6CsNkofVj"
   },
   "source": [
    "7. Посчитайте производную функции y = x**3 + z - 75t в точке (1, 0.5, 2)"
   ]
  },
  {
   "cell_type": "markdown",
   "metadata": {},
   "source": [
    "Полная производная функции:  \n",
    "$y' = \\frac{\\partial y}{\\partial x} + \\frac{\\partial y}{\\partial z} + \\frac{\\partial y}{\\partial t}$  \n",
    "<br>\n",
    "Частные производные:  \n",
    "$\\frac{\\partial y}{\\partial x} = 3x^2$  \n",
    "$\\frac{\\partial y}{\\partial z} = 1$  \n",
    "$\\frac{\\partial y}{\\partial t} = -75$  \n",
    "<br>\n",
    "Тогда полная производная:  \n",
    "$y' = 3x^2 + 1 - 75 = 3x^2 - 74$  \n",
    "<br>\n",
    "В точке (1, 0.5, 2) производная равна:  \n",
    "$y' = 3 \\cdot 1 - 74 = 3 - 74 = \\underline{-71}$"
   ]
  },
  {
   "cell_type": "markdown",
   "metadata": {
    "id": "FzH6QkyxofVm"
   },
   "source": [
    "8. Создайте единичный тензор размера 5x6"
   ]
  },
  {
   "cell_type": "code",
   "execution_count": 8,
   "metadata": {},
   "outputs": [
    {
     "data": {
      "text/plain": [
       "tensor([[1., 1., 1., 1., 1., 1.],\n",
       "        [1., 1., 1., 1., 1., 1.],\n",
       "        [1., 1., 1., 1., 1., 1.],\n",
       "        [1., 1., 1., 1., 1., 1.],\n",
       "        [1., 1., 1., 1., 1., 1.]])"
      ]
     },
     "execution_count": 8,
     "metadata": {},
     "output_type": "execute_result"
    }
   ],
   "source": [
    "c = torch.ones(5, 6)\n",
    "c"
   ]
  },
  {
   "cell_type": "markdown",
   "metadata": {
    "id": "z49ttvWPofVo"
   },
   "source": [
    "9. Переведите его в формат numpy"
   ]
  },
  {
   "cell_type": "code",
   "execution_count": 9,
   "metadata": {},
   "outputs": [
    {
     "data": {
      "text/plain": [
       "array([[1., 1., 1., 1., 1., 1.],\n",
       "       [1., 1., 1., 1., 1., 1.],\n",
       "       [1., 1., 1., 1., 1., 1.],\n",
       "       [1., 1., 1., 1., 1., 1.],\n",
       "       [1., 1., 1., 1., 1., 1.]], dtype=float32)"
      ]
     },
     "execution_count": 9,
     "metadata": {},
     "output_type": "execute_result"
    }
   ],
   "source": [
    "c = c.numpy()\n",
    "c"
   ]
  }
 ],
 "metadata": {
  "colab": {
   "collapsed_sections": [],
   "provenance": []
  },
  "kernelspec": {
   "display_name": "Python 3 (ipykernel)",
   "language": "python",
   "name": "python3"
  },
  "language_info": {
   "codemirror_mode": {
    "name": "ipython",
    "version": 3
   },
   "file_extension": ".py",
   "mimetype": "text/x-python",
   "name": "python",
   "nbconvert_exporter": "python",
   "pygments_lexer": "ipython3",
   "version": "3.10.6"
  }
 },
 "nbformat": 4,
 "nbformat_minor": 4
}
