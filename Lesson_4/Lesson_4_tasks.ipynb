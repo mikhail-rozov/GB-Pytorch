{
 "cells": [
  {
   "cell_type": "markdown",
   "id": "104d95f4-df62-4262-b512-51af2c1d26cf",
   "metadata": {},
   "source": [
    "## Практическое задание к уроку 4 по теме \"CNN Свертки\"."
   ]
  },
  {
   "cell_type": "markdown",
   "id": "199a05b6-fa6b-4207-ad2b-69b0bd7fd3d4",
   "metadata": {},
   "source": [
    "1. Обучите CNN (самописная) на CIFAR-100.\n",
    "2. Обучите CNN на CIFAR-100 через дообучение ImageNet Resnet-50.\n",
    "3. \\*Обучите CNN на CIFAR-100 через дообучение ImageNet Resnet-50 с аугментацией данных.\n",
    "4. Сравните результаты обучения на эквивалентном числе эпох."
   ]
  },
  {
   "cell_type": "code",
   "execution_count": 1,
   "id": "e2ca2818-80d9-42c8-b36e-936a47406a9f",
   "metadata": {},
   "outputs": [],
   "source": [
    "%matplotlib inline\n",
    "\n",
    "import matplotlib.pyplot as plt\n",
    "import numpy as np\n",
    "import pickle\n",
    "import time\n",
    "import torch\n",
    "from torch import nn\n",
    "import torch.nn.functional as F\n",
    "from torchsummary import summary\n",
    "from torchvision import transforms, datasets, models"
   ]
  },
  {
   "cell_type": "code",
   "execution_count": 2,
   "id": "54cdce21-91f8-4ee3-a9f6-5df7ce3607a1",
   "metadata": {},
   "outputs": [],
   "source": [
    "PATH = './data/'\n",
    "RANDOM_STATE = 29"
   ]
  },
  {
   "cell_type": "markdown",
   "id": "b2a34788-fe5a-4d11-9049-bfcef8848017",
   "metadata": {},
   "source": [
    "Напишем функцию для загрузки данных для исключения повторения кода:"
   ]
  },
  {
   "cell_type": "code",
   "execution_count": 3,
   "id": "a4437a96-1394-418c-8d7d-e5557d6c0446",
   "metadata": {},
   "outputs": [],
   "source": [
    "def load_data(transform_train=transforms.ToTensor(), transform_test=transforms.ToTensor(), \n",
    "              download=True, verbose=True):\n",
    "    \n",
    "    train_dataset = datasets.CIFAR100(root=PATH,\n",
    "                                      transform=transform_train,\n",
    "                                      download=download)\n",
    "\n",
    "    test_dataset = datasets.CIFAR100(root=PATH,\n",
    "                                     train=False,\n",
    "                                     transform=transform_test,\n",
    "                                     download=download)\n",
    "    \n",
    "    if verbose:\n",
    "        print(f'Размер тренировочного датасета:\\t{len(train_dataset)}')\n",
    "        print(f'Размер тестового датасета:\\t{len(test_dataset)}')\n",
    "    \n",
    "    torch.random.manual_seed(RANDOM_STATE)\n",
    "\n",
    "    train_loader = torch.utils.data.DataLoader(train_dataset,\n",
    "                                               batch_size=128,\n",
    "                                               shuffle=True)\n",
    "\n",
    "    test_loader = torch.utils.data.DataLoader(test_dataset,\n",
    "                                              batch_size=128,\n",
    "                                              shuffle=False)\n",
    "    \n",
    "    return train_loader, test_loader"
   ]
  },
  {
   "cell_type": "markdown",
   "id": "de711da5-ef9f-41af-8f2d-c3a9589d2796",
   "metadata": {},
   "source": [
    "Напишем трансформер для аугментации. Вспомогательный трансформер нужен, т.к.  \n",
    "применение ToTensor() к тензору вызывает ошибку, когда мы используем ещё один  \n",
    "трансформер для подготовки данных для ResNet."
   ]
  },
  {
   "cell_type": "code",
   "execution_count": 24,
   "id": "c1ed0ca7-435f-4441-a4d7-62b2d5e9b142",
   "metadata": {},
   "outputs": [],
   "source": [
    "aug_transformers_ = transforms.Compose([\n",
    "    transforms.RandomHorizontalFlip(),\n",
    "    transforms.ColorJitter(brightness=0.2, contrast=0.2, saturation=0.2, hue=0.1),\n",
    "])\n",
    "\n",
    "aug_transformers = transforms.Compose([\n",
    "    aug_transformers,\n",
    "    transforms.ToTensor()\n",
    "])"
   ]
  },
  {
   "cell_type": "markdown",
   "id": "0a6c1849-3f45-4ee5-aa13-c3a934c41311",
   "metadata": {},
   "source": [
    "## Наша модель"
   ]
  },
  {
   "cell_type": "markdown",
   "id": "38ef485a-f312-4b1f-973c-20256041d2f5",
   "metadata": {},
   "source": [
    "Загрузим данные. Для нашей модели сразу будем применять аугментации:"
   ]
  },
  {
   "cell_type": "code",
   "execution_count": 5,
   "id": "e1978f10-57dc-476d-8f65-b197390e27d9",
   "metadata": {},
   "outputs": [
    {
     "name": "stdout",
     "output_type": "stream",
     "text": [
      "Files already downloaded and verified\n",
      "Files already downloaded and verified\n",
      "Размер тренировочного датасета:\t50000\n",
      "Размер тестового датасета:\t10000\n"
     ]
    }
   ],
   "source": [
    "train_loader, test_loader = load_data(transform_train=aug_transformers)"
   ]
  },
  {
   "cell_type": "code",
   "execution_count": 7,
   "id": "c0f0775c-2089-42ca-966a-7ce7dbec6804",
   "metadata": {},
   "outputs": [
    {
     "data": {
      "text/plain": [
       "'cuda'"
      ]
     },
     "execution_count": 7,
     "metadata": {},
     "output_type": "execute_result"
    }
   ],
   "source": [
    "device = 'cuda' if torch.cuda.is_available() else 'cpu'\n",
    "device"
   ]
  },
  {
   "cell_type": "code",
   "execution_count": 9,
   "id": "12c00d64-5c18-41fa-952c-f558fcc60c08",
   "metadata": {},
   "outputs": [
    {
     "data": {
      "text/plain": [
       "torch.Size([3, 32, 32])"
      ]
     },
     "execution_count": 9,
     "metadata": {},
     "output_type": "execute_result"
    }
   ],
   "source": [
    "image_size = iter(train_loader).next()[0][0].shape\n",
    "image_size"
   ]
  },
  {
   "cell_type": "markdown",
   "id": "6271afa8-27c6-432d-9183-3427bd13ce90",
   "metadata": {},
   "source": [
    "Напишем нашу сеть, track_running_stats в батч-нормализации выключим,  \n",
    "т.к. это даёт лучшую точность:"
   ]
  },
  {
   "cell_type": "code",
   "execution_count": 10,
   "id": "32d4c456-d591-4a1c-ab3b-52b07ff222fc",
   "metadata": {},
   "outputs": [],
   "source": [
    "class MyNet(nn.Module):\n",
    "    def __init__(self):\n",
    "        super().__init__()\n",
    "        torch.random.manual_seed(RANDOM_STATE)\n",
    "        \n",
    "        self.conv1 = nn.Conv2d(image_size[0], 32, 3, padding=1) \n",
    "        self.maxpool = nn.MaxPool2d(2) \n",
    "        self.bn1 = nn.BatchNorm2d(32, track_running_stats=False)\n",
    "        self.dp = nn.Dropout(0.25)\n",
    "        self.dp2d = nn.Dropout2d(0.25)\n",
    "    \n",
    "        self.conv2 = nn.Conv2d(32, 64, 3, padding=1) \n",
    "        self.bn2 = nn.BatchNorm2d(64, track_running_stats=False)\n",
    "        \n",
    "        self.conv3 = nn.Conv2d(64, 128, 3, padding=1) \n",
    "        self.bn3 = nn.BatchNorm2d(128, track_running_stats=False)\n",
    "    \n",
    "        self.flatten = nn.Flatten()\n",
    "        self.fc1 = nn.Linear(128*4*4, 512)\n",
    "        self.bn4 = nn.BatchNorm1d(512, track_running_stats=False)\n",
    "        \n",
    "        self.fc2 = nn.Linear(512, len(classes))\n",
    "        \n",
    "    def forward(self, x):\n",
    "        \n",
    "        # Свёрточные слои\n",
    "        x = self.conv1(x) # 3x32x32 -> 32x32x32\n",
    "        x = self.maxpool(x) # 32x32x32 -> 32x16x16\n",
    "        # x = self.dp2d(x)\n",
    "        x = self.bn1(x)\n",
    "        x = F.relu(x)\n",
    "        \n",
    "        x = self.conv2(x) # 32x16x16 -> 64x16x16\n",
    "        x = self.maxpool(x) # 64x16x16 -> 64x8x8\n",
    "        x = self.dp2d(x)\n",
    "        x = self.bn2(x)\n",
    "        x = F.relu(x)\n",
    "        \n",
    "        x = self.conv3(x) # 64x8x8 -> 128x8x8\n",
    "        x = self.maxpool(x) # 128x8x8 -> 128x4x4\n",
    "        # x = self.dp2d(x)\n",
    "        x = self.bn3(x)\n",
    "        x = F.relu(x)\n",
    "        \n",
    "        # Полносвязные слои\n",
    "        x = self.flatten(x) # 128x4x4 -> 128*4*4\n",
    "        x = self.fc1(x)\n",
    "        x = self.dp(x)\n",
    "        x = self.bn4(x)\n",
    "        x = F.relu(x)\n",
    "        \n",
    "        x = self.fc2(x)\n",
    "        return x\n",
    "    \n",
    "    def predict(self, x):\n",
    "        x = self.forward(x)\n",
    "        x = F.softmax(x, dim=1)\n",
    "        return x"
   ]
  },
  {
   "cell_type": "code",
   "execution_count": 11,
   "id": "0f6a5c02-9f33-4888-833d-15b8efc521c4",
   "metadata": {},
   "outputs": [
    {
     "name": "stdout",
     "output_type": "stream",
     "text": [
      "----------------------------------------------------------------\n",
      "        Layer (type)               Output Shape         Param #\n",
      "================================================================\n",
      "            Conv2d-1           [-1, 32, 32, 32]             896\n",
      "         MaxPool2d-2           [-1, 32, 16, 16]               0\n",
      "       BatchNorm2d-3           [-1, 32, 16, 16]              64\n",
      "            Conv2d-4           [-1, 64, 16, 16]          18,496\n",
      "         MaxPool2d-5             [-1, 64, 8, 8]               0\n",
      "         Dropout2d-6             [-1, 64, 8, 8]               0\n",
      "       BatchNorm2d-7             [-1, 64, 8, 8]             128\n",
      "            Conv2d-8            [-1, 128, 8, 8]          73,856\n",
      "         MaxPool2d-9            [-1, 128, 4, 4]               0\n",
      "      BatchNorm2d-10            [-1, 128, 4, 4]             256\n",
      "          Flatten-11                 [-1, 2048]               0\n",
      "           Linear-12                  [-1, 512]       1,049,088\n",
      "          Dropout-13                  [-1, 512]               0\n",
      "      BatchNorm1d-14                  [-1, 512]           1,024\n",
      "           Linear-15                  [-1, 100]          51,300\n",
      "================================================================\n",
      "Total params: 1,195,108\n",
      "Trainable params: 1,195,108\n",
      "Non-trainable params: 0\n",
      "----------------------------------------------------------------\n",
      "Input size (MB): 0.01\n",
      "Forward/backward pass size (MB): 0.72\n",
      "Params size (MB): 4.56\n",
      "Estimated Total Size (MB): 5.29\n",
      "----------------------------------------------------------------\n"
     ]
    }
   ],
   "source": [
    "summary(MyNet().to(device), input_size=image_size)"
   ]
  },
  {
   "cell_type": "markdown",
   "id": "ee24cbed-683a-470c-9f84-86bde63f4a35",
   "metadata": {},
   "source": [
    "Общая функция для обучения моделей:"
   ]
  },
  {
   "cell_type": "code",
   "execution_count": 97,
   "id": "a7b2f3bd-cddf-44fb-86dd-967315c5d210",
   "metadata": {},
   "outputs": [],
   "source": [
    "def train_nn(net, train_loader, test_loader, lr=1e-3, epochs=5, verbose=True, parameters=None):\n",
    "\n",
    "    torch.backends.cudnn.deterministic = True\n",
    "    criterion = nn.CrossEntropyLoss()\n",
    "    if parameters is None:\n",
    "        parameters = net.parameters()\n",
    "    optimizer = torch.optim.Adam(parameters, lr=lr)\n",
    "    \n",
    "    metrics_train_global = np.array([])\n",
    "    metrics_test_global = np.array([])\n",
    "\n",
    "    for epoch in range(epochs):\n",
    "        start_time = time.time()\n",
    "        metrics_train = np.array([])\n",
    "        metrics_test = np.array([])\n",
    "        losses_train = np.array([])\n",
    "        losses_test = np.array([])\n",
    "\n",
    "        for i, data in enumerate(train_loader):\n",
    "            net.train()\n",
    "            inputs, labels = data[0].to(device), data[1].to(device)\n",
    "\n",
    "            optimizer.zero_grad()\n",
    "\n",
    "            outputs = net(inputs)\n",
    "            loss = criterion(outputs, labels)\n",
    "            loss.backward()\n",
    "            optimizer.step()\n",
    "            \n",
    "            losses_train = np.append(losses_train, loss.item())\n",
    "            net.eval()\n",
    "            metrics_train = np.append(metrics_train, (labels == outputs.argmax(axis=1)).sum().cpu() / len(labels))\n",
    "        \n",
    "        with torch.no_grad():\n",
    "            for i, data in enumerate(test_loader):\n",
    "                inputs, labels = data[0].to(device), data[1].to(device)\n",
    "                outputs = net(inputs)\n",
    "                loss = criterion(outputs, labels)\n",
    "                losses_test = np.append(losses_test, loss.item())\n",
    "                metrics_test = np.append(metrics_test, (labels == outputs.argmax(axis=1)).sum().cpu() / len(labels))    \n",
    "        \n",
    "        if verbose:\n",
    "            print(f'Epoch [{epoch + 1}/{epochs}]. ' \\\n",
    "                  f'Train loss: {losses_train.mean():.4f}. '\\\n",
    "                  f'Test loss: {losses_test.mean():.4f}. '\\\n",
    "                  f'Train accuracy: {metrics_train.mean():.4f}. '\\\n",
    "                  f'Test accuracy: {metrics_test.mean():.4f}. '\n",
    "                  f'Time: {int(time.time() - start_time)} s')\n",
    "        \n",
    "        metrics_train_global = np.append(metrics_train_global, metrics_train.mean())\n",
    "        metrics_test_global = np.append(metrics_test_global, metrics_test.mean())\n",
    "    print('Training is finished!')\n",
    "    return metrics_train_global, metrics_test_global"
   ]
  },
  {
   "cell_type": "markdown",
   "id": "007694d1-f900-4d6c-be02-4ba69f443407",
   "metadata": {},
   "source": [
    "Обучаем модель:"
   ]
  },
  {
   "cell_type": "code",
   "execution_count": 13,
   "id": "799d98b6-a10e-4591-bf86-c8c1fffeba4c",
   "metadata": {},
   "outputs": [
    {
     "name": "stdout",
     "output_type": "stream",
     "text": [
      "Epoch [1/20]. Train loss: 3.4891. Test loss: 2.7367. Train accuracy: 0.1807. Test accuracy: 0.3128. Time: 23 s\n",
      "Epoch [2/20]. Train loss: 2.6894. Test loss: 2.3077. Train accuracy: 0.3228. Test accuracy: 0.4046. Time: 22 s\n",
      "Epoch [3/20]. Train loss: 2.3592. Test loss: 2.1066. Train accuracy: 0.3902. Test accuracy: 0.4519. Time: 23 s\n",
      "Epoch [4/20]. Train loss: 2.1544. Test loss: 2.0158. Train accuracy: 0.4349. Test accuracy: 0.4719. Time: 23 s\n",
      "Epoch [5/20]. Train loss: 2.0063. Test loss: 1.9387. Train accuracy: 0.4685. Test accuracy: 0.4913. Time: 23 s\n",
      "Epoch [6/20]. Train loss: 1.8865. Test loss: 1.8980. Train accuracy: 0.4960. Test accuracy: 0.5054. Time: 23 s\n",
      "Epoch [7/20]. Train loss: 1.7953. Test loss: 1.8636. Train accuracy: 0.5172. Test accuracy: 0.5164. Time: 23 s\n",
      "Epoch [8/20]. Train loss: 1.6920. Test loss: 1.8434. Train accuracy: 0.5377. Test accuracy: 0.5251. Time: 23 s\n",
      "Epoch [9/20]. Train loss: 1.6212. Test loss: 1.8334. Train accuracy: 0.5556. Test accuracy: 0.5255. Time: 23 s\n",
      "Epoch [10/20]. Train loss: 1.5487. Test loss: 1.8057. Train accuracy: 0.5726. Test accuracy: 0.5379. Time: 23 s\n",
      "Epoch [11/20]. Train loss: 1.4998. Test loss: 1.8018. Train accuracy: 0.5840. Test accuracy: 0.5464. Time: 23 s\n",
      "Epoch [12/20]. Train loss: 1.4372. Test loss: 1.8266. Train accuracy: 0.5992. Test accuracy: 0.5428. Time: 23 s\n",
      "Epoch [13/20]. Train loss: 1.3778. Test loss: 1.8213. Train accuracy: 0.6154. Test accuracy: 0.5475. Time: 23 s\n",
      "Epoch [14/20]. Train loss: 1.3369. Test loss: 1.8240. Train accuracy: 0.6205. Test accuracy: 0.5553. Time: 23 s\n",
      "Epoch [15/20]. Train loss: 1.2904. Test loss: 1.8190. Train accuracy: 0.6352. Test accuracy: 0.5534. Time: 23 s\n",
      "Epoch [16/20]. Train loss: 1.2536. Test loss: 1.8564. Train accuracy: 0.6442. Test accuracy: 0.5517. Time: 25 s\n",
      "Epoch [17/20]. Train loss: 1.2089. Test loss: 1.8757. Train accuracy: 0.6542. Test accuracy: 0.5524. Time: 23 s\n",
      "Epoch [18/20]. Train loss: 1.1710. Test loss: 1.8831. Train accuracy: 0.6636. Test accuracy: 0.5537. Time: 23 s\n",
      "Epoch [19/20]. Train loss: 1.1397. Test loss: 1.8832. Train accuracy: 0.6704. Test accuracy: 0.5573. Time: 24 s\n",
      "Epoch [20/20]. Train loss: 1.1108. Test loss: 1.9208. Train accuracy: 0.6783. Test accuracy: 0.5533. Time: 24 s\n",
      "Training is finished!\n"
     ]
    }
   ],
   "source": [
    "mynet = MyNet().to(device)\n",
    "mynet_train, mynet_test = train_nn(mynet, train_loader, test_loader, epochs=20)"
   ]
  },
  {
   "cell_type": "markdown",
   "id": "d7e4c181-bf39-4bef-b007-196b094cc05d",
   "metadata": {},
   "source": [
    "## ResNet50"
   ]
  },
  {
   "cell_type": "markdown",
   "id": "08118ef3-50c6-438f-9fcb-35db45dc4441",
   "metadata": {},
   "source": [
    "Напишем трансформеры для этой модели:"
   ]
  },
  {
   "cell_type": "code",
   "execution_count": 16,
   "id": "cdad0c2f-70db-4b4f-b639-f0a830131bcf",
   "metadata": {},
   "outputs": [],
   "source": [
    "resnet_transformer = transforms.Compose([\n",
    "    transforms.Resize((224, 224)),\n",
    "    transforms.ToTensor()\n",
    "])"
   ]
  },
  {
   "cell_type": "code",
   "execution_count": 25,
   "id": "cd8a658b-cfef-428d-bde2-5767b3e69259",
   "metadata": {},
   "outputs": [],
   "source": [
    "resnet_aug_transformer = transforms.Compose([\n",
    "    aug_transformers_,\n",
    "    resnet_transformer\n",
    "])"
   ]
  },
  {
   "cell_type": "markdown",
   "id": "d36fb84d-0849-4ccf-aa35-a375560f9c41",
   "metadata": {},
   "source": [
    "Обернём все этапы в функцию, чтобы потом не дублировать код при  \n",
    "обучении ResNet с аугментацией:"
   ]
  },
  {
   "cell_type": "code",
   "execution_count": 21,
   "id": "6d652136-b845-40b4-b70c-8c64ed29dc19",
   "metadata": {},
   "outputs": [],
   "source": [
    "def train_resnet(transformer_train, epochs=5, verbose=1):\n",
    "    resnet50 = models.resnet50(weights=models.ResNet50_Weights.DEFAULT)\n",
    "    \n",
    "    for param in resnet50.parameters():\n",
    "        param.requires_grad = False\n",
    "        \n",
    "    resnet_train_loader, resnet_test_loader = load_data(transform_train=transformer_train, \n",
    "                                                        transform_test=resnet_transformer,\n",
    "                                                        download=False, verbose=False)\n",
    "    \n",
    "    torch.random.manual_seed(RANDOM_STATE)\n",
    "    resnet50.fc = nn.Linear(2048, 100)\n",
    "\n",
    "    params_to_update = []\n",
    "    for param in resnet50.parameters():\n",
    "        if param.requires_grad == True:\n",
    "            params_to_update.append(param)\n",
    "    \n",
    "    resnet50 = resnet50.to(device)\n",
    "    resnet_train, resnet_test = train_nn(resnet50, resnet_train_loader, resnet_test_loader, \n",
    "                                         epochs=epochs, verbose=verbose, parameters=params_to_update)\n",
    "    return resnet50, resnet_train, resnet_test"
   ]
  },
  {
   "cell_type": "markdown",
   "id": "bc2212c1-bb6a-49f9-955d-c6f27994f6ba",
   "metadata": {},
   "source": [
    "Обучим ResNet без аугментации:"
   ]
  },
  {
   "cell_type": "code",
   "execution_count": 22,
   "id": "c751dfec-f7e9-411f-8fdf-033e71066a18",
   "metadata": {},
   "outputs": [
    {
     "name": "stdout",
     "output_type": "stream",
     "text": [
      "Epoch [1/20]. Train loss: 2.5938. Test loss: 1.9313. Train accuracy: 0.4165. Test accuracy: 0.5254. Time: 137 s\n",
      "Epoch [2/20]. Train loss: 1.6756. Test loss: 1.6810. Train accuracy: 0.5764. Test accuracy: 0.5638. Time: 138 s\n",
      "Epoch [3/20]. Train loss: 1.4175. Test loss: 1.5882. Train accuracy: 0.6312. Test accuracy: 0.5783. Time: 138 s\n",
      "Epoch [4/20]. Train loss: 1.2683. Test loss: 1.5232. Train accuracy: 0.6652. Test accuracy: 0.5895. Time: 145 s\n",
      "Epoch [5/20]. Train loss: 1.1544. Test loss: 1.4843. Train accuracy: 0.6946. Test accuracy: 0.6001. Time: 140 s\n",
      "Epoch [6/20]. Train loss: 1.0654. Test loss: 1.4691. Train accuracy: 0.7171. Test accuracy: 0.6010. Time: 138 s\n",
      "Epoch [7/20]. Train loss: 0.9915. Test loss: 1.4597. Train accuracy: 0.7381. Test accuracy: 0.6058. Time: 138 s\n",
      "Epoch [8/20]. Train loss: 0.9309. Test loss: 1.4600. Train accuracy: 0.7532. Test accuracy: 0.6037. Time: 138 s\n",
      "Epoch [9/20]. Train loss: 0.8767. Test loss: 1.4456. Train accuracy: 0.7687. Test accuracy: 0.6047. Time: 138 s\n",
      "Epoch [10/20]. Train loss: 0.8308. Test loss: 1.4518. Train accuracy: 0.7815. Test accuracy: 0.6074. Time: 141 s\n",
      "Epoch [11/20]. Train loss: 0.7832. Test loss: 1.4567. Train accuracy: 0.7978. Test accuracy: 0.6054. Time: 139 s\n",
      "Epoch [12/20]. Train loss: 0.7476. Test loss: 1.4448. Train accuracy: 0.8051. Test accuracy: 0.6077. Time: 138 s\n",
      "Epoch [13/20]. Train loss: 0.7130. Test loss: 1.4487. Train accuracy: 0.8161. Test accuracy: 0.6080. Time: 138 s\n",
      "Epoch [14/20]. Train loss: 0.6785. Test loss: 1.4637. Train accuracy: 0.8255. Test accuracy: 0.6077. Time: 141 s\n",
      "Epoch [15/20]. Train loss: 0.6514. Test loss: 1.4742. Train accuracy: 0.8337. Test accuracy: 0.6053. Time: 138 s\n",
      "Epoch [16/20]. Train loss: 0.6244. Test loss: 1.4864. Train accuracy: 0.8388. Test accuracy: 0.6030. Time: 141 s\n",
      "Epoch [17/20]. Train loss: 0.6002. Test loss: 1.4934. Train accuracy: 0.8490. Test accuracy: 0.6043. Time: 139 s\n",
      "Epoch [18/20]. Train loss: 0.5752. Test loss: 1.4939. Train accuracy: 0.8558. Test accuracy: 0.6053. Time: 148 s\n",
      "Epoch [19/20]. Train loss: 0.5548. Test loss: 1.5078. Train accuracy: 0.8620. Test accuracy: 0.6020. Time: 147 s\n",
      "Epoch [20/20]. Train loss: 0.5371. Test loss: 1.5166. Train accuracy: 0.8657. Test accuracy: 0.6029. Time: 144 s\n",
      "Training is finished!\n"
     ]
    }
   ],
   "source": [
    "resnet50, resnet_train, resnet_test = train_resnet(resnet_transformer, epochs=20)"
   ]
  },
  {
   "cell_type": "markdown",
   "id": "08af3d98-2a17-4462-937b-8b2d27612905",
   "metadata": {},
   "source": [
    "Обучим ResNet с аугментацией:"
   ]
  },
  {
   "cell_type": "code",
   "execution_count": 26,
   "id": "77c07af3-076f-4a5a-b7a3-8ba851596b5a",
   "metadata": {},
   "outputs": [
    {
     "name": "stdout",
     "output_type": "stream",
     "text": [
      "Epoch [1/20]. Train loss: 2.8360. Test loss: 2.0525. Train accuracy: 0.3620. Test accuracy: 0.5068. Time: 156 s\n",
      "Epoch [2/20]. Train loss: 2.0108. Test loss: 1.7701. Train accuracy: 0.4949. Test accuracy: 0.5489. Time: 155 s\n",
      "Epoch [3/20]. Train loss: 1.7872. Test loss: 1.6509. Train accuracy: 0.5374. Test accuracy: 0.5720. Time: 156 s\n",
      "Epoch [4/20]. Train loss: 1.6631. Test loss: 1.5672. Train accuracy: 0.5614. Test accuracy: 0.5854. Time: 157 s\n",
      "Epoch [5/20]. Train loss: 1.5796. Test loss: 1.5358. Train accuracy: 0.5794. Test accuracy: 0.5935. Time: 155 s\n",
      "Epoch [6/20]. Train loss: 1.5217. Test loss: 1.4970. Train accuracy: 0.5930. Test accuracy: 0.5983. Time: 156 s\n",
      "Epoch [7/20]. Train loss: 1.4782. Test loss: 1.4747. Train accuracy: 0.6004. Test accuracy: 0.6032. Time: 156 s\n",
      "Epoch [8/20]. Train loss: 1.4290. Test loss: 1.4804. Train accuracy: 0.6101. Test accuracy: 0.5988. Time: 156 s\n",
      "Epoch [9/20]. Train loss: 1.3972. Test loss: 1.4507. Train accuracy: 0.6189. Test accuracy: 0.6057. Time: 155 s\n",
      "Epoch [10/20]. Train loss: 1.3677. Test loss: 1.4349. Train accuracy: 0.6265. Test accuracy: 0.6095. Time: 171 s\n",
      "Epoch [11/20]. Train loss: 1.3450. Test loss: 1.4291. Train accuracy: 0.6324. Test accuracy: 0.6099. Time: 174 s\n",
      "Epoch [12/20]. Train loss: 1.3226. Test loss: 1.4250. Train accuracy: 0.6368. Test accuracy: 0.6113. Time: 174 s\n",
      "Epoch [13/20]. Train loss: 1.3060. Test loss: 1.4203. Train accuracy: 0.6408. Test accuracy: 0.6115. Time: 177 s\n",
      "Epoch [14/20]. Train loss: 1.2815. Test loss: 1.4169. Train accuracy: 0.6449. Test accuracy: 0.6157. Time: 175 s\n",
      "Epoch [15/20]. Train loss: 1.2770. Test loss: 1.4022. Train accuracy: 0.6457. Test accuracy: 0.6191. Time: 175 s\n",
      "Epoch [16/20]. Train loss: 1.2549. Test loss: 1.4178. Train accuracy: 0.6516. Test accuracy: 0.6132. Time: 174 s\n",
      "Epoch [17/20]. Train loss: 1.2400. Test loss: 1.4117. Train accuracy: 0.6567. Test accuracy: 0.6137. Time: 160 s\n",
      "Epoch [18/20]. Train loss: 1.2270. Test loss: 1.4127. Train accuracy: 0.6576. Test accuracy: 0.6140. Time: 155 s\n",
      "Epoch [19/20]. Train loss: 1.2134. Test loss: 1.4145. Train accuracy: 0.6588. Test accuracy: 0.6138. Time: 155 s\n",
      "Epoch [20/20]. Train loss: 1.2067. Test loss: 1.4145. Train accuracy: 0.6629. Test accuracy: 0.6126. Time: 155 s\n",
      "Training is finished!\n"
     ]
    }
   ],
   "source": [
    "resnet50_aug, resnet_aug_train, resnet_aug_test = train_resnet(resnet_aug_transformer, epochs=20)"
   ]
  },
  {
   "cell_type": "markdown",
   "id": "e2938cc7-5abb-49f2-b257-b471c8673835",
   "metadata": {},
   "source": [
    "Построим графики метрики:"
   ]
  },
  {
   "cell_type": "code",
   "execution_count": 93,
   "id": "8bb6db9b-8321-4a4d-b7af-e058c1fa0dd9",
   "metadata": {},
   "outputs": [
    {
     "data": {
      "image/png": "[encoded data removed]",
      "text/plain": [
       "<Figure size 1152x360 with 3 Axes>"
      ]
     },
     "metadata": {
      "needs_background": "light"
     },
     "output_type": "display_data"
    }
   ],
   "source": [
    "plt.figure(figsize=(16, 5))\n",
    "plt.rcParams.update({'font.size': 14})\n",
    "\n",
    "plt.subplot(1, 3, 1)\n",
    "plt.plot(range(len(mynet_train)), mynet_train, label='Train')\n",
    "plt.plot(range(len(mynet_test)), mynet_test, label='Test')\n",
    "plt.title('My model')\n",
    "plt.ylabel('Accuracy')\n",
    "plt.xlabel('Epochs')\n",
    "plt.ylim([0, 1])\n",
    "plt.grid()\n",
    "plt.legend()\n",
    "\n",
    "plt.subplot(1, 3, 2)\n",
    "plt.plot(range(len(resnet_train)), resnet_train, label='Train')\n",
    "plt.plot(range(len(resnet_test)), resnet_test, label='Test')\n",
    "plt.title('Resnet50')\n",
    "plt.xlabel('Epochs')\n",
    "plt.ylim([0, 1])\n",
    "plt.grid()\n",
    "plt.legend()\n",
    "\n",
    "plt.subplot(1, 3, 3)\n",
    "plt.plot(range(len(resnet_aug_train)), resnet_aug_train, label='Train')\n",
    "plt.plot(range(len(resnet_aug_test)), resnet_aug_test, label='Test')\n",
    "plt.title('Resnet50 w/ augmentations')\n",
    "plt.xlabel('Epochs')\n",
    "plt.ylim([0, 1])\n",
    "plt.grid()\n",
    "plt.legend()\n",
    "\n",
    "plt.show()"
   ]
  },
  {
   "cell_type": "markdown",
   "id": "088b38ff-be65-4875-ae2c-2ac2188af4d6",
   "metadata": {},
   "source": [
    "Можно сделать вывод, что для модели ResNet без аугментации можно было снизить  \n",
    "величину learning_rate оптимизатора, т.к. она быстро уходит в переобучение.  \n",
    "Но по условиям задачи мы сравниваем модели в равных условиях. Оптимальное  \n",
    "количество эпох для нашей модели и модели ResNet с аугментацией - 5-10."
   ]
  },
  {
   "cell_type": "markdown",
   "id": "d64e985d-00ed-4e5a-bd58-0fa5b550c75d",
   "metadata": {},
   "source": [
    "Теперь сравним точность предсказания моделей на тестовых данных  \n",
    "между собой:"
   ]
  },
  {
   "cell_type": "code",
   "execution_count": 95,
   "id": "6ce69cb5-d10b-46d0-9622-f5c14007dbfb",
   "metadata": {},
   "outputs": [
    {
     "data": {
      "image/png": "[encoded data removed]",
      "text/plain": [
       "<Figure size 576x288 with 1 Axes>"
      ]
     },
     "metadata": {
      "needs_background": "light"
     },
     "output_type": "display_data"
    }
   ],
   "source": [
    "plt.figure(figsize=(8, 4))\n",
    "plt.plot(range(len(mynet_test)), mynet_test, label='My model')\n",
    "plt.plot(range(len(resnet_test)), resnet_test, label='Resnet50')\n",
    "plt.plot(range(len(resnet_aug_test)), resnet_aug_test, label='Resnet50 w/ aug')\n",
    "plt.title('График Accuracy различных моделей')\n",
    "plt.xlabel('Epochs')\n",
    "plt.ylabel('Accuracy')\n",
    "plt.ylim([0, 1])\n",
    "plt.grid()\n",
    "plt.legend()\n",
    "plt.show()"
   ]
  },
  {
   "cell_type": "markdown",
   "id": "6f56bc69-5bdb-430e-9507-fad3138320ed",
   "metadata": {},
   "source": [
    "ResNet50 с аугментацией показал чуть более высокую точность, чем  \n",
    "аналогичная модель без аугментации. Обе эти модели ожидаемо превзошли  \n",
    "нашу модель (60% против 55%). Несмотря на это, точность такой модели  \n",
    "на таком несложном датасете, как CIFAR-100, вызывает вопросы. К примеру,  \n",
    "в практическом задании к предыдущему курсу, где мы изучали Tensorflow,  \n",
    "я брал для transfer learning модель MobileNetV3, которая за 3 эпохи обучения  \n",
    "показала точность 72%, а она имеет в разы меньше параметров, чем ResNet50.    \n",
    "https://github.com/mikhail-rozov/Neural_networks_introduction/blob/master/Lesson_8/Lesson_8_task.ipynb  \n",
    "Попробуем для сравнения взять MobileNet и дообучить её под наш датасет:"
   ]
  },
  {
   "cell_type": "code",
   "execution_count": 83,
   "id": "83a7d8c0-ff90-4b1f-ae93-211745d7e761",
   "metadata": {},
   "outputs": [],
   "source": [
    "mobilenet = models.mobilenet_v3_large(weights=models.MobileNet_V3_Large_Weights.DEFAULT)"
   ]
  },
  {
   "cell_type": "code",
   "execution_count": 84,
   "id": "4da71f54-ea38-4cee-b2b4-9bac76cb839e",
   "metadata": {},
   "outputs": [],
   "source": [
    "for param in mobilenet.parameters():\n",
    "        param.requires_grad = False"
   ]
  },
  {
   "cell_type": "code",
   "execution_count": 85,
   "id": "565d5d4b-a170-4b3f-bccf-071a1e914857",
   "metadata": {},
   "outputs": [],
   "source": [
    "class LinearModule(nn.Module):\n",
    "    def __init__(self):\n",
    "        super().__init__()\n",
    "        torch.random.manual_seed(RANDOM_STATE)\n",
    "        self.fc = nn.Linear(1000, 100, device=device)\n",
    "        self.dp = nn.Dropout(0.25)\n",
    "    \n",
    "    def forward(self, x):\n",
    "        x = self.dp(x)\n",
    "        x = self.fc(x)\n",
    "        return x"
   ]
  },
  {
   "cell_type": "code",
   "execution_count": 86,
   "id": "d2a7cfcd-2fcc-48a1-b961-a47ee0bc205d",
   "metadata": {},
   "outputs": [],
   "source": [
    "mobilenet = nn.Sequential(mobilenet, LinearModule())"
   ]
  },
  {
   "cell_type": "code",
   "execution_count": 87,
   "id": "8d8cd783-d251-442c-9fd2-5f3571b432c4",
   "metadata": {},
   "outputs": [
    {
     "name": "stdout",
     "output_type": "stream",
     "text": [
      "----------------------------------------------------------------\n",
      "        Layer (type)               Output Shape         Param #\n",
      "================================================================\n",
      "            Conv2d-1         [-1, 16, 112, 112]             432\n",
      "       BatchNorm2d-2         [-1, 16, 112, 112]              32\n",
      "         Hardswish-3         [-1, 16, 112, 112]               0\n",
      "            Conv2d-4         [-1, 16, 112, 112]             144\n",
      "       BatchNorm2d-5         [-1, 16, 112, 112]              32\n",
      "              ReLU-6         [-1, 16, 112, 112]               0\n",
      "            Conv2d-7         [-1, 16, 112, 112]             256\n",
      "       BatchNorm2d-8         [-1, 16, 112, 112]              32\n",
      "  InvertedResidual-9         [-1, 16, 112, 112]               0\n",
      "           Conv2d-10         [-1, 64, 112, 112]           1,024\n",
      "      BatchNorm2d-11         [-1, 64, 112, 112]             128\n",
      "             ReLU-12         [-1, 64, 112, 112]               0\n",
      "           Conv2d-13           [-1, 64, 56, 56]             576\n",
      "      BatchNorm2d-14           [-1, 64, 56, 56]             128\n",
      "             ReLU-15           [-1, 64, 56, 56]               0\n",
      "           Conv2d-16           [-1, 24, 56, 56]           1,536\n",
      "      BatchNorm2d-17           [-1, 24, 56, 56]              48\n",
      " InvertedResidual-18           [-1, 24, 56, 56]               0\n",
      "           Conv2d-19           [-1, 72, 56, 56]           1,728\n",
      "      BatchNorm2d-20           [-1, 72, 56, 56]             144\n",
      "             ReLU-21           [-1, 72, 56, 56]               0\n",
      "           Conv2d-22           [-1, 72, 56, 56]             648\n",
      "      BatchNorm2d-23           [-1, 72, 56, 56]             144\n",
      "             ReLU-24           [-1, 72, 56, 56]               0\n",
      "           Conv2d-25           [-1, 24, 56, 56]           1,728\n",
      "      BatchNorm2d-26           [-1, 24, 56, 56]              48\n",
      " InvertedResidual-27           [-1, 24, 56, 56]               0\n",
      "           Conv2d-28           [-1, 72, 56, 56]           1,728\n",
      "      BatchNorm2d-29           [-1, 72, 56, 56]             144\n",
      "             ReLU-30           [-1, 72, 56, 56]               0\n",
      "           Conv2d-31           [-1, 72, 28, 28]           1,800\n",
      "      BatchNorm2d-32           [-1, 72, 28, 28]             144\n",
      "             ReLU-33           [-1, 72, 28, 28]               0\n",
      "AdaptiveAvgPool2d-34             [-1, 72, 1, 1]               0\n",
      "           Conv2d-35             [-1, 24, 1, 1]           1,752\n",
      "             ReLU-36             [-1, 24, 1, 1]               0\n",
      "           Conv2d-37             [-1, 72, 1, 1]           1,800\n",
      "      Hardsigmoid-38             [-1, 72, 1, 1]               0\n",
      "SqueezeExcitation-39           [-1, 72, 28, 28]               0\n",
      "           Conv2d-40           [-1, 40, 28, 28]           2,880\n",
      "      BatchNorm2d-41           [-1, 40, 28, 28]              80\n",
      " InvertedResidual-42           [-1, 40, 28, 28]               0\n",
      "           Conv2d-43          [-1, 120, 28, 28]           4,800\n",
      "      BatchNorm2d-44          [-1, 120, 28, 28]             240\n",
      "             ReLU-45          [-1, 120, 28, 28]               0\n",
      "           Conv2d-46          [-1, 120, 28, 28]           3,000\n",
      "      BatchNorm2d-47          [-1, 120, 28, 28]             240\n",
      "             ReLU-48          [-1, 120, 28, 28]               0\n",
      "AdaptiveAvgPool2d-49            [-1, 120, 1, 1]               0\n",
      "           Conv2d-50             [-1, 32, 1, 1]           3,872\n",
      "             ReLU-51             [-1, 32, 1, 1]               0\n",
      "           Conv2d-52            [-1, 120, 1, 1]           3,960\n",
      "      Hardsigmoid-53            [-1, 120, 1, 1]               0\n",
      "SqueezeExcitation-54          [-1, 120, 28, 28]               0\n",
      "           Conv2d-55           [-1, 40, 28, 28]           4,800\n",
      "      BatchNorm2d-56           [-1, 40, 28, 28]              80\n",
      " InvertedResidual-57           [-1, 40, 28, 28]               0\n",
      "           Conv2d-58          [-1, 120, 28, 28]           4,800\n",
      "      BatchNorm2d-59          [-1, 120, 28, 28]             240\n",
      "             ReLU-60          [-1, 120, 28, 28]               0\n",
      "           Conv2d-61          [-1, 120, 28, 28]           3,000\n",
      "      BatchNorm2d-62          [-1, 120, 28, 28]             240\n",
      "             ReLU-63          [-1, 120, 28, 28]               0\n",
      "AdaptiveAvgPool2d-64            [-1, 120, 1, 1]               0\n",
      "           Conv2d-65             [-1, 32, 1, 1]           3,872\n",
      "             ReLU-66             [-1, 32, 1, 1]               0\n",
      "           Conv2d-67            [-1, 120, 1, 1]           3,960\n",
      "      Hardsigmoid-68            [-1, 120, 1, 1]               0\n",
      "SqueezeExcitation-69          [-1, 120, 28, 28]               0\n",
      "           Conv2d-70           [-1, 40, 28, 28]           4,800\n",
      "      BatchNorm2d-71           [-1, 40, 28, 28]              80\n",
      " InvertedResidual-72           [-1, 40, 28, 28]               0\n",
      "           Conv2d-73          [-1, 240, 28, 28]           9,600\n",
      "      BatchNorm2d-74          [-1, 240, 28, 28]             480\n",
      "        Hardswish-75          [-1, 240, 28, 28]               0\n",
      "           Conv2d-76          [-1, 240, 14, 14]           2,160\n",
      "      BatchNorm2d-77          [-1, 240, 14, 14]             480\n",
      "        Hardswish-78          [-1, 240, 14, 14]               0\n",
      "           Conv2d-79           [-1, 80, 14, 14]          19,200\n",
      "      BatchNorm2d-80           [-1, 80, 14, 14]             160\n",
      " InvertedResidual-81           [-1, 80, 14, 14]               0\n",
      "           Conv2d-82          [-1, 200, 14, 14]          16,000\n",
      "      BatchNorm2d-83          [-1, 200, 14, 14]             400\n",
      "        Hardswish-84          [-1, 200, 14, 14]               0\n",
      "           Conv2d-85          [-1, 200, 14, 14]           1,800\n",
      "      BatchNorm2d-86          [-1, 200, 14, 14]             400\n",
      "        Hardswish-87          [-1, 200, 14, 14]               0\n",
      "           Conv2d-88           [-1, 80, 14, 14]          16,000\n",
      "      BatchNorm2d-89           [-1, 80, 14, 14]             160\n",
      " InvertedResidual-90           [-1, 80, 14, 14]               0\n",
      "           Conv2d-91          [-1, 184, 14, 14]          14,720\n",
      "      BatchNorm2d-92          [-1, 184, 14, 14]             368\n",
      "        Hardswish-93          [-1, 184, 14, 14]               0\n",
      "           Conv2d-94          [-1, 184, 14, 14]           1,656\n",
      "      BatchNorm2d-95          [-1, 184, 14, 14]             368\n",
      "        Hardswish-96          [-1, 184, 14, 14]               0\n",
      "           Conv2d-97           [-1, 80, 14, 14]          14,720\n",
      "      BatchNorm2d-98           [-1, 80, 14, 14]             160\n",
      " InvertedResidual-99           [-1, 80, 14, 14]               0\n",
      "          Conv2d-100          [-1, 184, 14, 14]          14,720\n",
      "     BatchNorm2d-101          [-1, 184, 14, 14]             368\n",
      "       Hardswish-102          [-1, 184, 14, 14]               0\n",
      "          Conv2d-103          [-1, 184, 14, 14]           1,656\n",
      "     BatchNorm2d-104          [-1, 184, 14, 14]             368\n",
      "       Hardswish-105          [-1, 184, 14, 14]               0\n",
      "          Conv2d-106           [-1, 80, 14, 14]          14,720\n",
      "     BatchNorm2d-107           [-1, 80, 14, 14]             160\n",
      "InvertedResidual-108           [-1, 80, 14, 14]               0\n",
      "          Conv2d-109          [-1, 480, 14, 14]          38,400\n",
      "     BatchNorm2d-110          [-1, 480, 14, 14]             960\n",
      "       Hardswish-111          [-1, 480, 14, 14]               0\n",
      "          Conv2d-112          [-1, 480, 14, 14]           4,320\n",
      "     BatchNorm2d-113          [-1, 480, 14, 14]             960\n",
      "       Hardswish-114          [-1, 480, 14, 14]               0\n",
      "AdaptiveAvgPool2d-115            [-1, 480, 1, 1]               0\n",
      "          Conv2d-116            [-1, 120, 1, 1]          57,720\n",
      "            ReLU-117            [-1, 120, 1, 1]               0\n",
      "          Conv2d-118            [-1, 480, 1, 1]          58,080\n",
      "     Hardsigmoid-119            [-1, 480, 1, 1]               0\n",
      "SqueezeExcitation-120          [-1, 480, 14, 14]               0\n",
      "          Conv2d-121          [-1, 112, 14, 14]          53,760\n",
      "     BatchNorm2d-122          [-1, 112, 14, 14]             224\n",
      "InvertedResidual-123          [-1, 112, 14, 14]               0\n",
      "          Conv2d-124          [-1, 672, 14, 14]          75,264\n",
      "     BatchNorm2d-125          [-1, 672, 14, 14]           1,344\n",
      "       Hardswish-126          [-1, 672, 14, 14]               0\n",
      "          Conv2d-127          [-1, 672, 14, 14]           6,048\n",
      "     BatchNorm2d-128          [-1, 672, 14, 14]           1,344\n",
      "       Hardswish-129          [-1, 672, 14, 14]               0\n",
      "AdaptiveAvgPool2d-130            [-1, 672, 1, 1]               0\n",
      "          Conv2d-131            [-1, 168, 1, 1]         113,064\n",
      "            ReLU-132            [-1, 168, 1, 1]               0\n",
      "          Conv2d-133            [-1, 672, 1, 1]         113,568\n",
      "     Hardsigmoid-134            [-1, 672, 1, 1]               0\n",
      "SqueezeExcitation-135          [-1, 672, 14, 14]               0\n",
      "          Conv2d-136          [-1, 112, 14, 14]          75,264\n",
      "     BatchNorm2d-137          [-1, 112, 14, 14]             224\n",
      "InvertedResidual-138          [-1, 112, 14, 14]               0\n",
      "          Conv2d-139          [-1, 672, 14, 14]          75,264\n",
      "     BatchNorm2d-140          [-1, 672, 14, 14]           1,344\n",
      "       Hardswish-141          [-1, 672, 14, 14]               0\n",
      "          Conv2d-142            [-1, 672, 7, 7]          16,800\n",
      "     BatchNorm2d-143            [-1, 672, 7, 7]           1,344\n",
      "       Hardswish-144            [-1, 672, 7, 7]               0\n",
      "AdaptiveAvgPool2d-145            [-1, 672, 1, 1]               0\n",
      "          Conv2d-146            [-1, 168, 1, 1]         113,064\n",
      "            ReLU-147            [-1, 168, 1, 1]               0\n",
      "          Conv2d-148            [-1, 672, 1, 1]         113,568\n",
      "     Hardsigmoid-149            [-1, 672, 1, 1]               0\n",
      "SqueezeExcitation-150            [-1, 672, 7, 7]               0\n",
      "          Conv2d-151            [-1, 160, 7, 7]         107,520\n",
      "     BatchNorm2d-152            [-1, 160, 7, 7]             320\n",
      "InvertedResidual-153            [-1, 160, 7, 7]               0\n",
      "          Conv2d-154            [-1, 960, 7, 7]         153,600\n",
      "     BatchNorm2d-155            [-1, 960, 7, 7]           1,920\n",
      "       Hardswish-156            [-1, 960, 7, 7]               0\n",
      "          Conv2d-157            [-1, 960, 7, 7]          24,000\n",
      "     BatchNorm2d-158            [-1, 960, 7, 7]           1,920\n",
      "       Hardswish-159            [-1, 960, 7, 7]               0\n",
      "AdaptiveAvgPool2d-160            [-1, 960, 1, 1]               0\n",
      "          Conv2d-161            [-1, 240, 1, 1]         230,640\n",
      "            ReLU-162            [-1, 240, 1, 1]               0\n",
      "          Conv2d-163            [-1, 960, 1, 1]         231,360\n",
      "     Hardsigmoid-164            [-1, 960, 1, 1]               0\n",
      "SqueezeExcitation-165            [-1, 960, 7, 7]               0\n",
      "          Conv2d-166            [-1, 160, 7, 7]         153,600\n",
      "     BatchNorm2d-167            [-1, 160, 7, 7]             320\n",
      "InvertedResidual-168            [-1, 160, 7, 7]               0\n",
      "          Conv2d-169            [-1, 960, 7, 7]         153,600\n",
      "     BatchNorm2d-170            [-1, 960, 7, 7]           1,920\n",
      "       Hardswish-171            [-1, 960, 7, 7]               0\n",
      "          Conv2d-172            [-1, 960, 7, 7]          24,000\n",
      "     BatchNorm2d-173            [-1, 960, 7, 7]           1,920\n",
      "       Hardswish-174            [-1, 960, 7, 7]               0\n",
      "AdaptiveAvgPool2d-175            [-1, 960, 1, 1]               0\n",
      "          Conv2d-176            [-1, 240, 1, 1]         230,640\n",
      "            ReLU-177            [-1, 240, 1, 1]               0\n",
      "          Conv2d-178            [-1, 960, 1, 1]         231,360\n",
      "     Hardsigmoid-179            [-1, 960, 1, 1]               0\n",
      "SqueezeExcitation-180            [-1, 960, 7, 7]               0\n",
      "          Conv2d-181            [-1, 160, 7, 7]         153,600\n",
      "     BatchNorm2d-182            [-1, 160, 7, 7]             320\n",
      "InvertedResidual-183            [-1, 160, 7, 7]               0\n",
      "          Conv2d-184            [-1, 960, 7, 7]         153,600\n",
      "     BatchNorm2d-185            [-1, 960, 7, 7]           1,920\n",
      "       Hardswish-186            [-1, 960, 7, 7]               0\n",
      "AdaptiveAvgPool2d-187            [-1, 960, 1, 1]               0\n",
      "          Linear-188                 [-1, 1280]       1,230,080\n",
      "       Hardswish-189                 [-1, 1280]               0\n",
      "         Dropout-190                 [-1, 1280]               0\n",
      "          Linear-191                 [-1, 1000]       1,281,000\n",
      "     MobileNetV3-192                 [-1, 1000]               0\n",
      "         Dropout-193                 [-1, 1000]               0\n",
      "          Linear-194                  [-1, 100]         100,100\n",
      "    LinearModule-195                  [-1, 100]               0\n",
      "================================================================\n",
      "Total params: 5,583,132\n",
      "Trainable params: 100,100\n",
      "Non-trainable params: 5,483,032\n",
      "----------------------------------------------------------------\n",
      "Input size (MB): 0.57\n",
      "Forward/backward pass size (MB): 105.43\n",
      "Params size (MB): 21.30\n",
      "Estimated Total Size (MB): 127.30\n",
      "----------------------------------------------------------------\n"
     ]
    }
   ],
   "source": [
    "summary(mobilenet.to(device), input_size=(3, 224, 224))"
   ]
  },
  {
   "cell_type": "code",
   "execution_count": 78,
   "id": "9ecd28cb-14b2-4ef1-950e-430d4c55efdb",
   "metadata": {},
   "outputs": [],
   "source": [
    "mobilenet_train_loader, mobilenet_test_loader = load_data(resnet_transformer, resnet_transformer,\n",
    "                                                          download=False, verbose=False)"
   ]
  },
  {
   "cell_type": "code",
   "execution_count": 88,
   "id": "00355710-3309-4521-8326-10e5d1f4261b",
   "metadata": {},
   "outputs": [],
   "source": [
    "params_to_update = []\n",
    "for param in mobilenet.parameters():\n",
    "    if param.requires_grad == True:\n",
    "        params_to_update.append(param)"
   ]
  },
  {
   "cell_type": "code",
   "execution_count": 102,
   "id": "d3fc29fd-8cef-418d-98ac-f74bc56e43bb",
   "metadata": {},
   "outputs": [
    {
     "name": "stdout",
     "output_type": "stream",
     "text": [
      "Epoch [1/10]. Train loss: 1.9880. Test loss: 1.9851. Train accuracy: 0.5342. Test accuracy: 0.5207. Time: 66 s\n",
      "Epoch [2/10]. Train loss: 1.8754. Test loss: 1.9491. Train accuracy: 0.5451. Test accuracy: 0.5260. Time: 65 s\n",
      "Epoch [3/10]. Train loss: 1.7664. Test loss: 1.9229. Train accuracy: 0.5590. Test accuracy: 0.5223. Time: 66 s\n",
      "Epoch [4/10]. Train loss: 1.6367. Test loss: 1.9037. Train accuracy: 0.5792. Test accuracy: 0.5228. Time: 66 s\n",
      "Epoch [5/10]. Train loss: 1.4799. Test loss: 1.8922. Train accuracy: 0.6135. Test accuracy: 0.5244. Time: 66 s\n",
      "Epoch [6/10]. Train loss: 2.0162. Test loss: 1.8761. Train accuracy: 0.5106. Test accuracy: 0.5297. Time: 66 s\n",
      "Epoch [7/10]. Train loss: 1.9559. Test loss: 1.8551. Train accuracy: 0.5175. Test accuracy: 0.5286. Time: 66 s\n",
      "Epoch [8/10]. Train loss: 1.9499. Test loss: 1.8428. Train accuracy: 0.5163. Test accuracy: 0.5269. Time: 65 s\n",
      "Epoch [9/10]. Train loss: 1.9289. Test loss: 1.8264. Train accuracy: 0.5183. Test accuracy: 0.5286. Time: 65 s\n",
      "Epoch [10/10]. Train loss: 1.9026. Test loss: 1.8181. Train accuracy: 0.5203. Test accuracy: 0.5297. Time: 65 s\n",
      "Training is finished!\n"
     ]
    }
   ],
   "source": [
    "torch.random.manual_seed(RANDOM_STATE)\n",
    "mobilenet = mobilenet.to(device)\n",
    "mobilenet_train, mobilenet_test = train_nn(mobilenet, mobilenet_train_loader, mobilenet_test_loader, \n",
    "                                           epochs=10, lr=5e-4, parameters=params_to_update)"
   ]
  },
  {
   "cell_type": "markdown",
   "id": "09b956e5-cef7-4414-8d1d-d0a4e1c7b92b",
   "metadata": {},
   "source": [
    "Получили точность всего 53%, что даже хуже нашей самописной сети и почти на 20%  \n",
    "хуже, чем эта же модель, обученная нами в Tensorflow. Конечно, в Tensorflow мы  \n",
    "брали не всю модель целиком, а только feature-vector, то есть без последнего слоя,  \n",
    "но вряд ли этот факт стоил нам 20% accuracy. Судя по неутешительным результатам  \n",
    "обеих предобученных моделей, дело, скорее всего, в нашем способе их обучения.  \n",
    "Либо на этапе применения трансформеров, либо на этапе обучения, а, может быть,  \n",
    "везде наш процесс неоптимален."
   ]
  }
 ],
 "metadata": {
  "kernelspec": {
   "display_name": "Python 3 (ipykernel)",
   "language": "python",
   "name": "python3"
  },
  "language_info": {
   "codemirror_mode": {
    "name": "ipython",
    "version": 3
   },
   "file_extension": ".py",
   "mimetype": "text/x-python",
   "name": "python",
   "nbconvert_exporter": "python",
   "pygments_lexer": "ipython3",
   "version": "3.10.6"
  }
 },
 "nbformat": 4,
 "nbformat_minor": 5
}
